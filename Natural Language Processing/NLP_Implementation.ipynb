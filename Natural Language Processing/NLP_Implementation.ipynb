{
  "nbformat": 4,
  "nbformat_minor": 0,
  "metadata": {
    "colab": {
      "provenance": []
    },
    "kernelspec": {
      "name": "python3",
      "display_name": "Python 3"
    },
    "language_info": {
      "name": "python"
    }
  },
  "cells": [
    {
      "cell_type": "markdown",
      "source": [
        "Imports"
      ],
      "metadata": {
        "id": "TcCww6VWJw1D"
      }
    },
    {
      "cell_type": "code",
      "execution_count": null,
      "metadata": {
        "id": "lJb6U0SbuW4L"
      },
      "outputs": [],
      "source": [
        "import pandas as pd\n",
        "import collections\n",
        "from collections import Counter\n",
        "import re\n",
        "import numpy as np\n",
        "from IPython.display import display\n",
        "import random\n",
        "import itertools"
      ]
    },
    {
      "cell_type": "markdown",
      "source": [
        "Read data as DataFrames"
      ],
      "metadata": {
        "id": "d2MSdQLTJ0Oi"
      }
    },
    {
      "cell_type": "code",
      "source": [
        "danish_de_en = pd.read_csv(\"europarl-v7.de-en.lc.de\", sep='\\n', header=None)\n",
        "english_de_en = pd.read_csv(\"europarl-v7.de-en.lc.en\", sep='\\n', header=None)\n",
        "english_fr_en = pd.read_csv(\"europarl-v7.fr-en.lc.en\", sep='\\n', header=None)\n",
        "french_fr_en = pd.read_csv(\"europarl-v7.fr-en.lc.fr\", sep='\\n', header=None)\n",
        "english_sv_en = pd.read_csv(\"europarl-v7.sv-en.lc.en\", sep='\\n', header=None)\n",
        "swedish_sv_en = pd.read_csv(\"europarl-v7.sv-en.lc.sv\", sep='\\n', header=None)"
      ],
      "metadata": {
        "id": "3wX-KX8euwQw"
      },
      "execution_count": null,
      "outputs": []
    },
    {
      "cell_type": "markdown",
      "source": [
        "# a) Warm up"
      ],
      "metadata": {
        "id": "3PrG3rx4J3g5"
      }
    },
    {
      "cell_type": "markdown",
      "source": [
        "Convert df to list of words"
      ],
      "metadata": {
        "id": "uRU_os-mKN7v"
      }
    },
    {
      "cell_type": "code",
      "source": [
        "# Takes in a dataframe with one column. Each row is a sentence and we want to transform all sentences into a long list of words\n",
        "def get_list_of_words(sentences_df):\n",
        "  \n",
        "  copy_df = sentences_df.copy()\n",
        "  \n",
        "  # Split the sentences into words\n",
        "  copy_df[\"words\"] = copy_df[0].str.split()\n",
        "  \n",
        "  # Concatenate all the lists into one long list\n",
        "  words = sum(copy_df['words'].tolist(), [])\n",
        "   \n",
        "  return words"
      ],
      "metadata": {
        "id": "CHpOCn4ylkcx"
      },
      "execution_count": null,
      "outputs": []
    },
    {
      "cell_type": "code",
      "source": [
        "swedish_words = get_list_of_words(swedish_sv_en)\n",
        "english_words = get_list_of_words(english_sv_en)"
      ],
      "metadata": {
        "id": "ZL5d1nb1lwd-"
      },
      "execution_count": null,
      "outputs": []
    },
    {
      "cell_type": "markdown",
      "source": [
        "Remove all entries that are not words"
      ],
      "metadata": {
        "id": "UfZli4piKjOt"
      }
    },
    {
      "cell_type": "code",
      "source": [
        "def only_words(list): \n",
        "  symbols = re.compile('[^A-Za-z0-9]+')\n",
        "  only_words = [symbols.sub('', word) for word in list]\n",
        "  only_words = [word for word in only_words if len(word)]\n",
        "  return only_words\n",
        "\n",
        "swe_only_words = only_words(swedish_words)\n",
        "eng_only_words = only_words(english_words)"
      ],
      "metadata": {
        "id": "dRaeREB4KrJ2"
      },
      "execution_count": null,
      "outputs": []
    },
    {
      "cell_type": "markdown",
      "source": [
        "Get top 10 most common words using Counter"
      ],
      "metadata": {
        "id": "tn-IeOqjKzxD"
      }
    },
    {
      "cell_type": "code",
      "source": [
        "word_count_swe = collections.Counter(swe_only_words)\n",
        "word_count_eng = collections.Counter(eng_only_words)\n",
        "\n",
        "\n",
        "swe_most_common = pd.DataFrame(word_count_swe.most_common(10), columns=['word', 'count'])\n",
        "eng_most_common = pd.DataFrame(word_count_eng.most_common(10), columns=['word', 'count'])\n",
        "\n",
        "print(\"TOP 10 SWEDISH\")\n",
        "display(swe_most_common)\n",
        "print(\"\\n\")\n",
        "print(\"TOP 10 ENGLISH\")\n",
        "display(eng_most_common)"
      ],
      "metadata": {
        "colab": {
          "base_uri": "https://localhost:8080/",
          "height": 755
        },
        "id": "IdaQl8aCK0dJ",
        "outputId": "b77cb5b0-21f6-4437-be39-9e4417a19729"
      },
      "execution_count": null,
      "outputs": [
        {
          "output_type": "stream",
          "name": "stdout",
          "text": [
            "TOP 10 SWEDISH\n"
          ]
        },
        {
          "output_type": "display_data",
          "data": {
            "text/plain": [
              "  word  count\n",
              "0  att   9181\n",
              "1  och   7038\n",
              "2    i   5951\n",
              "3  det   5687\n",
              "4   fr   5274\n",
              "5  som   5028\n",
              "6    r   4124\n",
              "7   av   4013\n",
              "8   en   3724\n",
              "9   vi   3211"
            ],
            "text/html": [
              "\n",
              "  <div id=\"df-e75068ca-f7b6-4dc1-9c82-00ed69b4c827\">\n",
              "    <div class=\"colab-df-container\">\n",
              "      <div>\n",
              "<style scoped>\n",
              "    .dataframe tbody tr th:only-of-type {\n",
              "        vertical-align: middle;\n",
              "    }\n",
              "\n",
              "    .dataframe tbody tr th {\n",
              "        vertical-align: top;\n",
              "    }\n",
              "\n",
              "    .dataframe thead th {\n",
              "        text-align: right;\n",
              "    }\n",
              "</style>\n",
              "<table border=\"1\" class=\"dataframe\">\n",
              "  <thead>\n",
              "    <tr style=\"text-align: right;\">\n",
              "      <th></th>\n",
              "      <th>word</th>\n",
              "      <th>count</th>\n",
              "    </tr>\n",
              "  </thead>\n",
              "  <tbody>\n",
              "    <tr>\n",
              "      <th>0</th>\n",
              "      <td>att</td>\n",
              "      <td>9181</td>\n",
              "    </tr>\n",
              "    <tr>\n",
              "      <th>1</th>\n",
              "      <td>och</td>\n",
              "      <td>7038</td>\n",
              "    </tr>\n",
              "    <tr>\n",
              "      <th>2</th>\n",
              "      <td>i</td>\n",
              "      <td>5951</td>\n",
              "    </tr>\n",
              "    <tr>\n",
              "      <th>3</th>\n",
              "      <td>det</td>\n",
              "      <td>5687</td>\n",
              "    </tr>\n",
              "    <tr>\n",
              "      <th>4</th>\n",
              "      <td>fr</td>\n",
              "      <td>5274</td>\n",
              "    </tr>\n",
              "    <tr>\n",
              "      <th>5</th>\n",
              "      <td>som</td>\n",
              "      <td>5028</td>\n",
              "    </tr>\n",
              "    <tr>\n",
              "      <th>6</th>\n",
              "      <td>r</td>\n",
              "      <td>4124</td>\n",
              "    </tr>\n",
              "    <tr>\n",
              "      <th>7</th>\n",
              "      <td>av</td>\n",
              "      <td>4013</td>\n",
              "    </tr>\n",
              "    <tr>\n",
              "      <th>8</th>\n",
              "      <td>en</td>\n",
              "      <td>3724</td>\n",
              "    </tr>\n",
              "    <tr>\n",
              "      <th>9</th>\n",
              "      <td>vi</td>\n",
              "      <td>3211</td>\n",
              "    </tr>\n",
              "  </tbody>\n",
              "</table>\n",
              "</div>\n",
              "      <button class=\"colab-df-convert\" onclick=\"convertToInteractive('df-e75068ca-f7b6-4dc1-9c82-00ed69b4c827')\"\n",
              "              title=\"Convert this dataframe to an interactive table.\"\n",
              "              style=\"display:none;\">\n",
              "        \n",
              "  <svg xmlns=\"http://www.w3.org/2000/svg\" height=\"24px\"viewBox=\"0 0 24 24\"\n",
              "       width=\"24px\">\n",
              "    <path d=\"M0 0h24v24H0V0z\" fill=\"none\"/>\n",
              "    <path d=\"M18.56 5.44l.94 2.06.94-2.06 2.06-.94-2.06-.94-.94-2.06-.94 2.06-2.06.94zm-11 1L8.5 8.5l.94-2.06 2.06-.94-2.06-.94L8.5 2.5l-.94 2.06-2.06.94zm10 10l.94 2.06.94-2.06 2.06-.94-2.06-.94-.94-2.06-.94 2.06-2.06.94z\"/><path d=\"M17.41 7.96l-1.37-1.37c-.4-.4-.92-.59-1.43-.59-.52 0-1.04.2-1.43.59L10.3 9.45l-7.72 7.72c-.78.78-.78 2.05 0 2.83L4 21.41c.39.39.9.59 1.41.59.51 0 1.02-.2 1.41-.59l7.78-7.78 2.81-2.81c.8-.78.8-2.07 0-2.86zM5.41 20L4 18.59l7.72-7.72 1.47 1.35L5.41 20z\"/>\n",
              "  </svg>\n",
              "      </button>\n",
              "      \n",
              "  <style>\n",
              "    .colab-df-container {\n",
              "      display:flex;\n",
              "      flex-wrap:wrap;\n",
              "      gap: 12px;\n",
              "    }\n",
              "\n",
              "    .colab-df-convert {\n",
              "      background-color: #E8F0FE;\n",
              "      border: none;\n",
              "      border-radius: 50%;\n",
              "      cursor: pointer;\n",
              "      display: none;\n",
              "      fill: #1967D2;\n",
              "      height: 32px;\n",
              "      padding: 0 0 0 0;\n",
              "      width: 32px;\n",
              "    }\n",
              "\n",
              "    .colab-df-convert:hover {\n",
              "      background-color: #E2EBFA;\n",
              "      box-shadow: 0px 1px 2px rgba(60, 64, 67, 0.3), 0px 1px 3px 1px rgba(60, 64, 67, 0.15);\n",
              "      fill: #174EA6;\n",
              "    }\n",
              "\n",
              "    [theme=dark] .colab-df-convert {\n",
              "      background-color: #3B4455;\n",
              "      fill: #D2E3FC;\n",
              "    }\n",
              "\n",
              "    [theme=dark] .colab-df-convert:hover {\n",
              "      background-color: #434B5C;\n",
              "      box-shadow: 0px 1px 3px 1px rgba(0, 0, 0, 0.15);\n",
              "      filter: drop-shadow(0px 1px 2px rgba(0, 0, 0, 0.3));\n",
              "      fill: #FFFFFF;\n",
              "    }\n",
              "  </style>\n",
              "\n",
              "      <script>\n",
              "        const buttonEl =\n",
              "          document.querySelector('#df-e75068ca-f7b6-4dc1-9c82-00ed69b4c827 button.colab-df-convert');\n",
              "        buttonEl.style.display =\n",
              "          google.colab.kernel.accessAllowed ? 'block' : 'none';\n",
              "\n",
              "        async function convertToInteractive(key) {\n",
              "          const element = document.querySelector('#df-e75068ca-f7b6-4dc1-9c82-00ed69b4c827');\n",
              "          const dataTable =\n",
              "            await google.colab.kernel.invokeFunction('convertToInteractive',\n",
              "                                                     [key], {});\n",
              "          if (!dataTable) return;\n",
              "\n",
              "          const docLinkHtml = 'Like what you see? Visit the ' +\n",
              "            '<a target=\"_blank\" href=https://colab.research.google.com/notebooks/data_table.ipynb>data table notebook</a>'\n",
              "            + ' to learn more about interactive tables.';\n",
              "          element.innerHTML = '';\n",
              "          dataTable['output_type'] = 'display_data';\n",
              "          await google.colab.output.renderOutput(dataTable, element);\n",
              "          const docLink = document.createElement('div');\n",
              "          docLink.innerHTML = docLinkHtml;\n",
              "          element.appendChild(docLink);\n",
              "        }\n",
              "      </script>\n",
              "    </div>\n",
              "  </div>\n",
              "  "
            ]
          },
          "metadata": {}
        },
        {
          "output_type": "stream",
          "name": "stdout",
          "text": [
            "\n",
            "\n",
            "TOP 10 ENGLISH\n"
          ]
        },
        {
          "output_type": "display_data",
          "data": {
            "text/plain": [
              "   word  count\n",
              "0   the  19322\n",
              "1    of   9312\n",
              "2    to   8801\n",
              "3   and   6946\n",
              "4    in   6090\n",
              "5    is   4400\n",
              "6  that   4357\n",
              "7     a   4269\n",
              "8    we   3223\n",
              "9  this   3222"
            ],
            "text/html": [
              "\n",
              "  <div id=\"df-09574045-085f-41bf-81dc-9b449f2c4e24\">\n",
              "    <div class=\"colab-df-container\">\n",
              "      <div>\n",
              "<style scoped>\n",
              "    .dataframe tbody tr th:only-of-type {\n",
              "        vertical-align: middle;\n",
              "    }\n",
              "\n",
              "    .dataframe tbody tr th {\n",
              "        vertical-align: top;\n",
              "    }\n",
              "\n",
              "    .dataframe thead th {\n",
              "        text-align: right;\n",
              "    }\n",
              "</style>\n",
              "<table border=\"1\" class=\"dataframe\">\n",
              "  <thead>\n",
              "    <tr style=\"text-align: right;\">\n",
              "      <th></th>\n",
              "      <th>word</th>\n",
              "      <th>count</th>\n",
              "    </tr>\n",
              "  </thead>\n",
              "  <tbody>\n",
              "    <tr>\n",
              "      <th>0</th>\n",
              "      <td>the</td>\n",
              "      <td>19322</td>\n",
              "    </tr>\n",
              "    <tr>\n",
              "      <th>1</th>\n",
              "      <td>of</td>\n",
              "      <td>9312</td>\n",
              "    </tr>\n",
              "    <tr>\n",
              "      <th>2</th>\n",
              "      <td>to</td>\n",
              "      <td>8801</td>\n",
              "    </tr>\n",
              "    <tr>\n",
              "      <th>3</th>\n",
              "      <td>and</td>\n",
              "      <td>6946</td>\n",
              "    </tr>\n",
              "    <tr>\n",
              "      <th>4</th>\n",
              "      <td>in</td>\n",
              "      <td>6090</td>\n",
              "    </tr>\n",
              "    <tr>\n",
              "      <th>5</th>\n",
              "      <td>is</td>\n",
              "      <td>4400</td>\n",
              "    </tr>\n",
              "    <tr>\n",
              "      <th>6</th>\n",
              "      <td>that</td>\n",
              "      <td>4357</td>\n",
              "    </tr>\n",
              "    <tr>\n",
              "      <th>7</th>\n",
              "      <td>a</td>\n",
              "      <td>4269</td>\n",
              "    </tr>\n",
              "    <tr>\n",
              "      <th>8</th>\n",
              "      <td>we</td>\n",
              "      <td>3223</td>\n",
              "    </tr>\n",
              "    <tr>\n",
              "      <th>9</th>\n",
              "      <td>this</td>\n",
              "      <td>3222</td>\n",
              "    </tr>\n",
              "  </tbody>\n",
              "</table>\n",
              "</div>\n",
              "      <button class=\"colab-df-convert\" onclick=\"convertToInteractive('df-09574045-085f-41bf-81dc-9b449f2c4e24')\"\n",
              "              title=\"Convert this dataframe to an interactive table.\"\n",
              "              style=\"display:none;\">\n",
              "        \n",
              "  <svg xmlns=\"http://www.w3.org/2000/svg\" height=\"24px\"viewBox=\"0 0 24 24\"\n",
              "       width=\"24px\">\n",
              "    <path d=\"M0 0h24v24H0V0z\" fill=\"none\"/>\n",
              "    <path d=\"M18.56 5.44l.94 2.06.94-2.06 2.06-.94-2.06-.94-.94-2.06-.94 2.06-2.06.94zm-11 1L8.5 8.5l.94-2.06 2.06-.94-2.06-.94L8.5 2.5l-.94 2.06-2.06.94zm10 10l.94 2.06.94-2.06 2.06-.94-2.06-.94-.94-2.06-.94 2.06-2.06.94z\"/><path d=\"M17.41 7.96l-1.37-1.37c-.4-.4-.92-.59-1.43-.59-.52 0-1.04.2-1.43.59L10.3 9.45l-7.72 7.72c-.78.78-.78 2.05 0 2.83L4 21.41c.39.39.9.59 1.41.59.51 0 1.02-.2 1.41-.59l7.78-7.78 2.81-2.81c.8-.78.8-2.07 0-2.86zM5.41 20L4 18.59l7.72-7.72 1.47 1.35L5.41 20z\"/>\n",
              "  </svg>\n",
              "      </button>\n",
              "      \n",
              "  <style>\n",
              "    .colab-df-container {\n",
              "      display:flex;\n",
              "      flex-wrap:wrap;\n",
              "      gap: 12px;\n",
              "    }\n",
              "\n",
              "    .colab-df-convert {\n",
              "      background-color: #E8F0FE;\n",
              "      border: none;\n",
              "      border-radius: 50%;\n",
              "      cursor: pointer;\n",
              "      display: none;\n",
              "      fill: #1967D2;\n",
              "      height: 32px;\n",
              "      padding: 0 0 0 0;\n",
              "      width: 32px;\n",
              "    }\n",
              "\n",
              "    .colab-df-convert:hover {\n",
              "      background-color: #E2EBFA;\n",
              "      box-shadow: 0px 1px 2px rgba(60, 64, 67, 0.3), 0px 1px 3px 1px rgba(60, 64, 67, 0.15);\n",
              "      fill: #174EA6;\n",
              "    }\n",
              "\n",
              "    [theme=dark] .colab-df-convert {\n",
              "      background-color: #3B4455;\n",
              "      fill: #D2E3FC;\n",
              "    }\n",
              "\n",
              "    [theme=dark] .colab-df-convert:hover {\n",
              "      background-color: #434B5C;\n",
              "      box-shadow: 0px 1px 3px 1px rgba(0, 0, 0, 0.15);\n",
              "      filter: drop-shadow(0px 1px 2px rgba(0, 0, 0, 0.3));\n",
              "      fill: #FFFFFF;\n",
              "    }\n",
              "  </style>\n",
              "\n",
              "      <script>\n",
              "        const buttonEl =\n",
              "          document.querySelector('#df-09574045-085f-41bf-81dc-9b449f2c4e24 button.colab-df-convert');\n",
              "        buttonEl.style.display =\n",
              "          google.colab.kernel.accessAllowed ? 'block' : 'none';\n",
              "\n",
              "        async function convertToInteractive(key) {\n",
              "          const element = document.querySelector('#df-09574045-085f-41bf-81dc-9b449f2c4e24');\n",
              "          const dataTable =\n",
              "            await google.colab.kernel.invokeFunction('convertToInteractive',\n",
              "                                                     [key], {});\n",
              "          if (!dataTable) return;\n",
              "\n",
              "          const docLinkHtml = 'Like what you see? Visit the ' +\n",
              "            '<a target=\"_blank\" href=https://colab.research.google.com/notebooks/data_table.ipynb>data table notebook</a>'\n",
              "            + ' to learn more about interactive tables.';\n",
              "          element.innerHTML = '';\n",
              "          dataTable['output_type'] = 'display_data';\n",
              "          await google.colab.output.renderOutput(dataTable, element);\n",
              "          const docLink = document.createElement('div');\n",
              "          docLink.innerHTML = docLinkHtml;\n",
              "          element.appendChild(docLink);\n",
              "        }\n",
              "      </script>\n",
              "    </div>\n",
              "  </div>\n",
              "  "
            ]
          },
          "metadata": {}
        }
      ]
    },
    {
      "cell_type": "markdown",
      "source": [
        "Probabilities of speaker and zebra"
      ],
      "metadata": {
        "id": "SN1yDKkyLqE-"
      }
    },
    {
      "cell_type": "code",
      "source": [
        "#'speaker'\n",
        "nr_eng_words = sum(word_count_eng.values())\n",
        "freq_speaker = word_count_eng[\"speaker\"]\n",
        "\n",
        "#'zebra'\n",
        "freq_zebra = word_count_eng[\"zebra\"]\n",
        "\n",
        "print(\"Probability of speaker is: \", (freq_speaker/nr_eng_words)*100,\"%\", \"\\nProbability of zebra is: \", (freq_zebra/nr_eng_words)*100 , \"%\")"
      ],
      "metadata": {
        "colab": {
          "base_uri": "https://localhost:8080/"
        },
        "id": "kvCM0pc3Lqsy",
        "outputId": "0a77860a-0ce1-4096-9f9e-0cad3ab4bc6d"
      },
      "execution_count": null,
      "outputs": [
        {
          "output_type": "stream",
          "name": "stdout",
          "text": [
            "Probability of speaker is:  0.00391530414082566 % \n",
            "Probability of zebra is:  0.0 %\n"
          ]
        }
      ]
    },
    {
      "cell_type": "markdown",
      "source": [
        "# b) Language modeling"
      ],
      "metadata": {
        "id": "sHaNGayZKd0h"
      }
    },
    {
      "cell_type": "code",
      "source": [
        "sentence = \" What are you \"\n",
        "\n",
        "# Computes the conditional probability between two english words\n",
        "def cond_prob_words(word1, word2):\n",
        "  count_12 = 0 \n",
        "  count_1 = Counter(english_words)[word1]\n",
        "  count_2 = Counter(english_words)[word2]\n",
        "  \n",
        "  if(count_1 == 0 or count_2 == 0): \n",
        "    return 0.0001\n",
        "  \n",
        "  else: \n",
        "\n",
        "    for i in range(len(english_words)-1): \n",
        "      if english_words[i] == word2 and english_words[i+1] == word1: \n",
        "        count_12 += 1\n",
        "    \n",
        "    return count_12/count_1\n",
        "\n",
        "# Takes in a sentence and computes the probability for it in English\n",
        "def lang_model(sentence): \n",
        "  sentence = sentence.lower()\n",
        "  probs = 1\n",
        "  sentence_words = sentence.split()\n",
        "  for i in range(len(sentence_words)): \n",
        "    # First word => \".\" is the previous word\n",
        "    if i == 0: \n",
        "      prob = cond_prob_words(sentence_words[i], \".\")\n",
        "      probs = probs*prob\n",
        "      \n",
        "    else: \n",
        "      prob = cond_prob_words(sentence_words[i], sentence_words[i-1])\n",
        "      probs = probs*prob\n",
        "\n",
        "\n",
        "  return(probs)\n",
        "\n",
        "print(\"The probability of '\", sentence, \"' is: \", lang_model(sentence))\n"
      ],
      "metadata": {
        "colab": {
          "base_uri": "https://localhost:8080/"
        },
        "id": "HXt8Aed5COGx",
        "outputId": "3d1f5fa0-a0a1-4562-a062-f7c7ad4cccf6"
      },
      "execution_count": null,
      "outputs": [
        {
          "output_type": "stream",
          "name": "stdout",
          "text": [
            "The probability of '  What are you  ' is:  1.3149981677692199e-05\n"
          ]
        }
      ]
    },
    {
      "cell_type": "markdown",
      "source": [
        "# c) Translation modeling"
      ],
      "metadata": {
        "id": "ILFVqEp7i70b"
      }
    },
    {
      "cell_type": "code",
      "source": [
        "def trans_model(source, target, it):\n",
        "    # Convert source sentences and target sentences to a list of strings\n",
        "    source_sentences = source[0].tolist()\n",
        "    target_sentences = target[0].tolist()\n",
        "\n",
        "    # Extract unique words from source and target sentences\n",
        "    source_words = set(word for sentence in source_sentences for word in sentence.split())\n",
        "    target_words = set(word for sentence in target_sentences for word in sentence.split())\n",
        "\n",
        "    # Create word indices for source and target words\n",
        "    source_word_indices = {word: i for i, word in enumerate(source_words)}\n",
        "    target_word_indices = {word: i for i, word in enumerate(target_words)}\n",
        "\n",
        "    # Add \"NULL\" to target words and set its index\n",
        "    target_words.add(\"NULL\")\n",
        "    target_word_indices[\"NULL\"] = len(target_words) - 1\n",
        "\n",
        "    # Initialize the translation probability matrix\n",
        "    t = np.ones((len(source_words), len(target_words))) / len(target_words)\n",
        "\n",
        "    # For each EM iteration\n",
        "    for iteration in range(it):\n",
        "        # Initialize count matrices\n",
        "        count_st = np.zeros((len(source_words), len(target_words)))\n",
        "        count_t = np.zeros(len(target_words))\n",
        "\n",
        "        # For each sentence pair\n",
        "        for source_sentence, target_sentence in zip(source_sentences, target_sentences):\n",
        "            # Append \"NULL\" to the target sentence\n",
        "            target_sentence = target_sentence.split() + [\"NULL\"]\n",
        "\n",
        "            # For each source word\n",
        "            for source_word in source_sentence.split():\n",
        "                source_index = source_word_indices[source_word]\n",
        "                denominator = sum(t[source_index][target_word_indices[target_word]] for target_word in target_sentence)\n",
        "\n",
        "                # For each target word\n",
        "                for target_word in target_sentence:\n",
        "                    target_index = target_word_indices[target_word]\n",
        "                    numerator = t[source_index][target_index]\n",
        "                    delta = numerator / denominator\n",
        "\n",
        "                    count_st[source_index][target_index] += delta\n",
        "                    count_t[target_index] += delta\n",
        "\n",
        "        # Compute the new translation probability matrix\n",
        "        t = count_st / count_t[np.newaxis, :]\n",
        "        \n",
        "        # Print the top 10 translated words for \"european\"\n",
        "        \n",
        "        top_10_translations(\"european\", iteration, source_word_indices, target_word_indices,t)\n",
        "      \n",
        "    # Return the translation probability matrix as a pandas DataFrame\n",
        "    #t = pd.DataFrame(t, index=source_words, columns=target_words)\n",
        "    return t, source_word_indices, target_word_indices\n"
      ],
      "metadata": {
        "id": "Si9tiSPO-mPE"
      },
      "execution_count": null,
      "outputs": []
    },
    {
      "cell_type": "code",
      "source": [
        "def top_10_translations(word, iteration, source_word_indices,target_word_indices,t): \n",
        "  if word in source_word_indices:\n",
        "      word_index = source_word_indices[word]\n",
        "      sorted_target_words = sorted(target_word_indices, key=lambda x: t[word_index][target_word_indices[x]], reverse=True)\n",
        "      print(f\"Iteration {iteration + 1}:\")\n",
        "      print(\"Top 10 words that '\", word, \"' is most likely to be translated to:\")\n",
        "      for target_word in sorted_target_words[:10]:\n",
        "          print(f\"{target_word}: {t[word_index][target_word_indices[target_word]]}\")\n",
        "      print()\n"
      ],
      "metadata": {
        "id": "yVxTBr4JNHUn"
      },
      "execution_count": null,
      "outputs": []
    },
    {
      "cell_type": "code",
      "source": [
        "t, swedish_words_index, english_words_index = trans_model(swedish_sv_en, english_sv_en, 10)"
      ],
      "metadata": {
        "id": "oU9nMUHD-tV8"
      },
      "execution_count": null,
      "outputs": []
    },
    {
      "cell_type": "markdown",
      "source": [
        "Note: If you want the top 10 translations for european to run you need to train the model with english as the source language. This model is trained in the opposite direction to be compatible with the next assignment. "
      ],
      "metadata": {
        "id": "Dw8bt6eJlIDN"
      }
    },
    {
      "cell_type": "markdown",
      "source": [
        "# d) Decoder"
      ],
      "metadata": {
        "id": "kO0leRijjBO2"
      }
    },
    {
      "cell_type": "code",
      "source": [
        "def decoder(sentence,t, target_index, source_index): \n",
        "  sentence = sentence.lower()\n",
        "  \n",
        "  # Split sentence into words\n",
        "  words = sentence.split()\n",
        "  \n",
        "  sentence_length = len(words)\n",
        "\n",
        "  # Create matrix for translations of each word\n",
        "  translations_for_words = np.zeros((sentence_length,5), dtype=object)\n",
        "  \n",
        "  # Add top 5 translations for each word to the matrix\n",
        "  for i in range(sentence_length): \n",
        "    top_5_translations = five_most_likely(words[i],t, target_index, source_index)\n",
        "    translations_for_words[i] = top_5_translations\n",
        "\n",
        "  # Get combinations of all translations to get possible translations of entire sentence\n",
        "  possible_translations = (' '.join(words) for words in itertools.product(*translations_for_words))\n",
        "  possible_translations = list(possible_translations)\n",
        "  print(len(possible_translations))\n",
        "\n",
        "  # Compute probability for each possible translation of source sentence \n",
        "  prob_of_possible_translations=[]\n",
        "  for sentence in possible_translations:\n",
        "    prob_sentence =lang_model(sentence) \n",
        "    prob_of_possible_translations.append(prob_sentence)\n",
        "  \n",
        "  # Return sentence with maximum probability\n",
        "  max_prob_index = prob_of_possible_translations.index(max(prob_of_possible_translations))\n",
        "\n",
        "  return possible_translations[max_prob_index ]\n",
        "\n",
        "# Returns list of 5 most likley translations for a sorce word into a target languge \n",
        "def five_most_likely(sorce_word, t, source_index, target_index):\n",
        "    \n",
        "    # Create new dictionary that maps indecies to words instead\n",
        "    index_to_word = {v: k for k, v in target_index.items()}\n",
        "\n",
        "    # Simple solution for words that dont exist: get five random words\n",
        "    if source_index.get(sorce_word,-1) == -1:\n",
        "      max_index = max(target_index.values())\n",
        "      five_random_indicies = random.sample(range(max_index), 5)\n",
        "      top_5_translations = [index_to_word[idx] for idx in five_random_indicies]\n",
        "\n",
        "    else: \n",
        "      sorce_word_index = source_index[sorce_word]\n",
        "      translations = t[sorce_word_index].tolist()\n",
        "      top_5_translation_indices = [i for i, x in sorted(enumerate(translations), key=lambda x: x[1], reverse=True)[:5]]\n",
        "      \n",
        "      top_5_translations = [index_to_word[idx] for idx in top_5_translation_indices]\n",
        "\n",
        "    return top_5_translations\n"
      ],
      "metadata": {
        "colab": {
          "base_uri": "https://localhost:8080/"
        },
        "id": "Jp3d9_Nl_Hp4",
        "outputId": "9d1e4cc4-7a17-4e52-ffbd-3d328b513b28"
      },
      "execution_count": null,
      "outputs": [
        {
          "output_type": "stream",
          "name": "stdout",
          "text": [
            "125\n"
          ]
        }
      ]
    },
    {
      "cell_type": "code",
      "source": [
        "decoder(\"Varför är detta bra\", t, swedish_words_index, english_words_index)"
      ],
      "metadata": {
        "colab": {
          "base_uri": "https://localhost:8080/",
          "height": 50
        },
        "id": "vApqigy6SHLi",
        "outputId": "073bac53-3fd1-4c39-83ab-3093bea39f87"
      },
      "execution_count": null,
      "outputs": [
        {
          "output_type": "stream",
          "name": "stdout",
          "text": [
            "625\n"
          ]
        },
        {
          "output_type": "execute_result",
          "data": {
            "text/plain": [
              "'why is this good'"
            ],
            "application/vnd.google.colaboratory.intrinsic+json": {
              "type": "string"
            }
          },
          "metadata": {},
          "execution_count": 92
        }
      ]
    },
    {
      "cell_type": "code",
      "source": [
        "decoder(\"Vad pratar ni om\", t, swedish_words_index, english_words_index)"
      ],
      "metadata": {
        "colab": {
          "base_uri": "https://localhost:8080/",
          "height": 50
        },
        "id": "yJ01vQEOUGus",
        "outputId": "535a3f75-9157-4fc0-db10-43285259cfb3"
      },
      "execution_count": null,
      "outputs": [
        {
          "output_type": "stream",
          "name": "stdout",
          "text": [
            "625\n"
          ]
        },
        {
          "output_type": "execute_result",
          "data": {
            "text/plain": [
              "'what misappropriation you if'"
            ],
            "application/vnd.google.colaboratory.intrinsic+json": {
              "type": "string"
            }
          },
          "metadata": {},
          "execution_count": 93
        }
      ]
    }
  ]
}