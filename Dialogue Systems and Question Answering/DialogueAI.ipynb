{
  "nbformat": 4,
  "nbformat_minor": 0,
  "metadata": {
    "colab": {
      "provenance": []
    },
    "kernelspec": {
      "name": "python3",
      "display_name": "Python 3"
    },
    "language_info": {
      "name": "python"
    }
  },
  "cells": [
    {
      "cell_type": "code",
      "source": [
        "import numpy as np\n",
        "import datetime\n",
        "import pandas as pd\n",
        "import abc\n",
        "import re\n",
        "from abc import ABC, abstractmethod\n",
        "import spacy"
      ],
      "metadata": {
        "id": "LrW1Agxr_SJP",
        "colab": {
          "base_uri": "https://localhost:8080/"
        },
        "outputId": "c7f4492c-3a8a-4208-8297-7a809713680b"
      },
      "execution_count": null,
      "outputs": [
        {
          "output_type": "stream",
          "name": "stderr",
          "text": [
            "/usr/local/lib/python3.8/dist-packages/torch/cuda/__init__.py:497: UserWarning: Can't initialize NVML\n",
            "  warnings.warn(\"Can't initialize NVML\")\n"
          ]
        }
      ]
    },
    {
      "cell_type": "code",
      "source": [
        "# Used to identify locations\n",
        "nlp = spacy.load(\"en_core_web_sm\")"
      ],
      "metadata": {
        "id": "PHpvlncXSsvn"
      },
      "execution_count": null,
      "outputs": []
    },
    {
      "cell_type": "markdown",
      "source": [
        "# Defining frames"
      ],
      "metadata": {
        "id": "BSsWsmmx78aV"
      }
    },
    {
      "cell_type": "code",
      "source": [
        "from pandas._libs.hashtable import value_count\n",
        "\n",
        "# Abstract Frame class\n",
        "class Frame(metaclass=abc.ABCMeta): \n",
        "\n",
        "  def __init__(self): \n",
        "    self.tasks = None\n",
        "\n",
        "  # Check of there are missing tasks and returning what tasks are missing \n",
        "  def missing_tasks(self): \n",
        "    missing_tasks=[]\n",
        "    if None in self.tasks.values(): \n",
        "      for key, value in self.tasks.items():\n",
        "        if value is None:\n",
        "          missing_tasks.append(key)\n",
        "      return missing_tasks\n",
        "    \n",
        "    else: \n",
        "      return False\n",
        "  \n",
        "  # Different greeting depending on the intent of the question \n",
        "  @abstractmethod\n",
        "  def greeting(self):\n",
        "    pass\n",
        "    \n",
        "\n",
        "  def confirm_intent(self, sentence):\n",
        "    self.find_everything(sentence)\n",
        "    answer = self.greeting()\n",
        "    for task, value in self.tasks.items():\n",
        "      if value != None:\n",
        "        answer +=  f\"{task}:{value}, \"\n",
        "\n",
        "    answer = answer[:-2]\n",
        "    return answer\n",
        "  \n",
        "  # Different feteched data depending on intent of the question\n",
        "  # Fetched the appropriate data from the database when all tasks in the frame are filled in \n",
        "  \n",
        "  \n",
        "  @abstractmethod\n",
        "  def find_everything(self, sentence):\n",
        "    pass\n",
        "  \n",
        "  \n",
        "  @abstractmethod\n",
        "  def fetch_data(self): \n",
        "    pass\n",
        "\n",
        "    \n",
        "\n",
        "class ResturantFrame(Frame):\n",
        "\n",
        "  def __init__(self):\n",
        "    self.tasks = {\"Day\": None, \"Time\": None, \"Cuisine\": None, \"Location\": None}\n",
        "\n",
        "  def find_day(self, sentence):\n",
        "    day_regex = r\"(Monday|Tuesday|Wednesday|Thursday|Friday|Saturday|Sunday)\"\n",
        "    match = re.search(day_regex, sentence, re.IGNORECASE)\n",
        "\n",
        "    if match:\n",
        "      day = match.group(0)\n",
        "      self.tasks[\"Day\"] = day\n",
        "    else:\n",
        "      return False\n",
        "  \n",
        "  def find_time(self, sentence):\n",
        "    time_regex = r\"([1-9]|1[0-2])(:[0-5]\\d)? ?([ap]m|AM|PM)\"\n",
        "    match = re.search(time_regex, sentence)\n",
        "\n",
        "    if match:\n",
        "        time = match.group(0)\n",
        "        self.tasks[\"Time\"] = time\n",
        "    else:\n",
        "        return False\n",
        "\n",
        "  def find_cuisine(self, sentence):\n",
        "      cuisine_regex = r\"(Italian|Mexican|Chinese|Thai|Indian|American|Japanese|French|Greek)\"\n",
        "      match = re.search(cuisine_regex, sentence, re.IGNORECASE)\n",
        "      if match:\n",
        "          cuisine = match.group(0)\n",
        "          self.tasks[\"Cuisine\"] = cuisine\n",
        "      else:\n",
        "          return False\n",
        "\n",
        "\n",
        "  def find_location(self, sentence):\n",
        "    doc = nlp(sentence)\n",
        "    for ent in doc.ents:\n",
        "        if ent.label_ == \"GPE\" or ent.label_ == \"LOC\":\n",
        "            location = ent.text\n",
        "            self.tasks[\"Location\"] = location\n",
        "            return True\n",
        "    return False\n",
        "\n",
        "  \n",
        "  def find_everything(self, sentence):\n",
        "    if self.tasks[\"Location\"] == None:\n",
        "      self.find_location(sentence)\n",
        "    if self.tasks[\"Cuisine\"] == None:\n",
        "      self.find_cuisine(sentence)\n",
        "    if self.tasks[\"Time\"] == None:\n",
        "      self.find_time(sentence)\n",
        "    if self.tasks[\"Day\"] == None:\n",
        "      self.find_day(sentence)\n",
        "  \n",
        "  def greeting(self):\n",
        "    if all(value is None for value in self.tasks.values()): \n",
        "      return \"Digital assistant: I understand you want help with finding a restaurant.  \"\n",
        "    else: \n",
        "      return \"Digital assistant: I understand that you want help with finding a restaurant with the following criterias: \"\n",
        "  \n",
        "  # The actual fetching of the data is not implemented, only toy data is returned\n",
        "  def fetch_data(self): \n",
        "    Day = self.tasks[\"Day\"]\n",
        "    Location = self.tasks[\"Location\"]\n",
        "    Cuisine = self.tasks[\"Cuisine\"]\n",
        "    Time = self.tasks[\"Time\"]\n",
        "\n",
        "    return f\"Digital assistant: You want to find a restaurant in {Location} on {Day} at {Time} with a {Cuisine} cuisine. \\nDigital assistant: I have found the following restaurant for you: Resturant Bongo \"\n",
        "\n",
        "class WeatherFrame(Frame):\n",
        "\n",
        "  def __init__(self):\n",
        "    self.tasks = {\"Day\": None, \"Time\": None, \"Location\": None}\n",
        "\n",
        "\n",
        "  def find_day(self, sentence):\n",
        "    day_regex = r\"(Monday|Tuesday|Wednesday|Thursday|Friday|Saturday|Sunday)\"\n",
        "    match = re.search(day_regex, sentence, re.IGNORECASE)\n",
        "\n",
        "    if match:\n",
        "      day = match.group(0)\n",
        "      self.tasks[\"Day\"] = day\n",
        "    else:\n",
        "      return False      \n",
        "  \n",
        "  def find_time(self, sentence):\n",
        "    time_regex = r\"([1-9]|1[0-2])(:[0-5]\\d)? ?([ap]m|AM|PM)\"\n",
        "    match = re.search(time_regex, sentence)\n",
        "\n",
        "    if match:\n",
        "        time = match.group(0)\n",
        "        self.tasks[\"Time\"] = time\n",
        "    else:\n",
        "        return False\n",
        "\n",
        "  def find_location(self, sentence):\n",
        "    doc = nlp(sentence)\n",
        "    for ent in doc.ents:\n",
        "        if ent.label_ == \"GPE\" or ent.label_ == \"LOC\":\n",
        "            location = ent.text\n",
        "            self.tasks[\"Location\"] = location\n",
        "            return True\n",
        "    return False\n",
        "\n",
        "  def find_everything(self, sentence):\n",
        "    if self.tasks[\"Location\"] == None:\n",
        "      self.find_location(sentence)\n",
        "    if self.tasks[\"Time\"] == None:\n",
        "      self.find_time(sentence)\n",
        "    if self.tasks[\"Day\"] == None:\n",
        "      self.find_day(sentence)\n",
        "    \n",
        "  def greeting(self):\n",
        "    if all(value is None for value in self.tasks.values()): \n",
        "      return \"Digital assistant: I understand that you want a weather forecast.  \"\n",
        "    else: \n",
        "      return \"Digital assistant: I understand that you want a weather forecast with the following criterias: \"\n",
        "  \n",
        "  def fetch_data(self): \n",
        "    Day = self.tasks[\"Day\"]\n",
        "    Location = self.tasks[\"Location\"]\n",
        "    Time = self.tasks[\"Time\"]\n",
        "\n",
        "    return f\"Digital assistant: The weather in {Location} on {Day} at {Time} will be: sunny and 20 deg celcius \"\n",
        "\n",
        "class BusFrame(Frame):\n",
        "  \n",
        "  def __init__(self):\n",
        "    self.tasks = {\"Start\": None, \"Destination\": None, \"Time\": None}\n",
        "    current_time = datetime.datetime.now()\n",
        "    time_string = current_time.strftime(\"%H:%M\")\n",
        "    self.tasks[\"Time\"] = time_string\n",
        "  \n",
        "  def find_start(self, sentence):\n",
        "    doc = nlp(sentence)  \n",
        "    for ent in doc.ents:\n",
        "        if ent.label_ == \"GPE\":\n",
        "            if self.tasks[\"Destination\"] is None or ent.text != self.tasks[\"Destination\"]:\n",
        "                self.tasks[\"Start\"] = ent.text\n",
        "                return ent.text   \n",
        "    return None\n",
        "\n",
        "  def find_destination(self, sentence):\n",
        "      doc = nlp(sentence)\n",
        "      for ent in doc.ents:\n",
        "          if ent.label_ == \"GPE\":\n",
        "              if self.tasks[\"Start\"] is None or ent.text != self.tasks[\"Start\"]:\n",
        "                  self.tasks[\"Destination\"] = ent.text\n",
        "                  return ent.text          \n",
        "      return None\n",
        "\n",
        "  def find_everything(self, sentence):\n",
        "    if self.tasks[\"Start\"] == None:\n",
        "      self.find_start(sentence)\n",
        "    if self.tasks[\"Destination\"] == None:\n",
        "      self.find_destination(sentence)\n",
        "  \n",
        "  def greeting(self):\n",
        "    if all(value is None for key, value in self.tasks.items() if key != 'Time'):\n",
        "      return \"Digital assistant: I understand that you want help with finding the next bus at  \"\n",
        "    else: \n",
        "      return \"Digital assistant: I understand that you want to find the next bus with the following criterias: \"\n",
        "  \n",
        "  def fetch_data(self): \n",
        "    Start = self.tasks[\"Start\"]\n",
        "    Destination = self.tasks[\"Destination\"]\n",
        "\n",
        "    return f\"Digital assistant: The next bus leaving from {Start} with desitination {Destination} is: Bus 57 at 13:30\""
      ],
      "metadata": {
        "id": "tFJehv0j8tAH"
      },
      "execution_count": null,
      "outputs": []
    },
    {
      "cell_type": "markdown",
      "source": [
        "# Implementing an intent identifier"
      ],
      "metadata": {
        "id": "FQRM1M_xJdmj"
      }
    },
    {
      "cell_type": "markdown",
      "source": [
        "Read dataset with classified intents\n"
      ],
      "metadata": {
        "id": "EZLjcO7CJXXB"
      }
    },
    {
      "cell_type": "code",
      "source": [
        "df = pd.read_csv(\"dataset2.csv\", sep=';')\n",
        "df.head()"
      ],
      "metadata": {
        "id": "vDkheNsTEvrd",
        "colab": {
          "base_uri": "https://localhost:8080/",
          "height": 201
        },
        "outputId": "3e0214ab-fad3-4e6b-837b-979719ab86f0"
      },
      "execution_count": null,
      "outputs": [
        {
          "output_type": "execute_result",
          "data": {
            "text/plain": [
              "                                            Sentence           Intent\n",
              "0  Can you recommend a good Italian restaurant ne...  find_restaurant\n",
              "1  I'm craving sushi - where's the best place to ...  find_restaurant\n",
              "2              What's the best burger joint in town?  find_restaurant\n",
              "3  I'm looking for a romantic restaurant with a v...  find_restaurant\n",
              "4  I need to find a family-friendly restaurant wi...  find_restaurant"
            ],
            "text/html": [
              "\n",
              "  <div id=\"df-8d9cca84-77c0-4609-9a48-4ddbe5f9abd7\">\n",
              "    <div class=\"colab-df-container\">\n",
              "      <div>\n",
              "<style scoped>\n",
              "    .dataframe tbody tr th:only-of-type {\n",
              "        vertical-align: middle;\n",
              "    }\n",
              "\n",
              "    .dataframe tbody tr th {\n",
              "        vertical-align: top;\n",
              "    }\n",
              "\n",
              "    .dataframe thead th {\n",
              "        text-align: right;\n",
              "    }\n",
              "</style>\n",
              "<table border=\"1\" class=\"dataframe\">\n",
              "  <thead>\n",
              "    <tr style=\"text-align: right;\">\n",
              "      <th></th>\n",
              "      <th>Sentence</th>\n",
              "      <th>Intent</th>\n",
              "    </tr>\n",
              "  </thead>\n",
              "  <tbody>\n",
              "    <tr>\n",
              "      <th>0</th>\n",
              "      <td>Can you recommend a good Italian restaurant ne...</td>\n",
              "      <td>find_restaurant</td>\n",
              "    </tr>\n",
              "    <tr>\n",
              "      <th>1</th>\n",
              "      <td>I'm craving sushi - where's the best place to ...</td>\n",
              "      <td>find_restaurant</td>\n",
              "    </tr>\n",
              "    <tr>\n",
              "      <th>2</th>\n",
              "      <td>What's the best burger joint in town?</td>\n",
              "      <td>find_restaurant</td>\n",
              "    </tr>\n",
              "    <tr>\n",
              "      <th>3</th>\n",
              "      <td>I'm looking for a romantic restaurant with a v...</td>\n",
              "      <td>find_restaurant</td>\n",
              "    </tr>\n",
              "    <tr>\n",
              "      <th>4</th>\n",
              "      <td>I need to find a family-friendly restaurant wi...</td>\n",
              "      <td>find_restaurant</td>\n",
              "    </tr>\n",
              "  </tbody>\n",
              "</table>\n",
              "</div>\n",
              "      <button class=\"colab-df-convert\" onclick=\"convertToInteractive('df-8d9cca84-77c0-4609-9a48-4ddbe5f9abd7')\"\n",
              "              title=\"Convert this dataframe to an interactive table.\"\n",
              "              style=\"display:none;\">\n",
              "        \n",
              "  <svg xmlns=\"http://www.w3.org/2000/svg\" height=\"24px\"viewBox=\"0 0 24 24\"\n",
              "       width=\"24px\">\n",
              "    <path d=\"M0 0h24v24H0V0z\" fill=\"none\"/>\n",
              "    <path d=\"M18.56 5.44l.94 2.06.94-2.06 2.06-.94-2.06-.94-.94-2.06-.94 2.06-2.06.94zm-11 1L8.5 8.5l.94-2.06 2.06-.94-2.06-.94L8.5 2.5l-.94 2.06-2.06.94zm10 10l.94 2.06.94-2.06 2.06-.94-2.06-.94-.94-2.06-.94 2.06-2.06.94z\"/><path d=\"M17.41 7.96l-1.37-1.37c-.4-.4-.92-.59-1.43-.59-.52 0-1.04.2-1.43.59L10.3 9.45l-7.72 7.72c-.78.78-.78 2.05 0 2.83L4 21.41c.39.39.9.59 1.41.59.51 0 1.02-.2 1.41-.59l7.78-7.78 2.81-2.81c.8-.78.8-2.07 0-2.86zM5.41 20L4 18.59l7.72-7.72 1.47 1.35L5.41 20z\"/>\n",
              "  </svg>\n",
              "      </button>\n",
              "      \n",
              "  <style>\n",
              "    .colab-df-container {\n",
              "      display:flex;\n",
              "      flex-wrap:wrap;\n",
              "      gap: 12px;\n",
              "    }\n",
              "\n",
              "    .colab-df-convert {\n",
              "      background-color: #E8F0FE;\n",
              "      border: none;\n",
              "      border-radius: 50%;\n",
              "      cursor: pointer;\n",
              "      display: none;\n",
              "      fill: #1967D2;\n",
              "      height: 32px;\n",
              "      padding: 0 0 0 0;\n",
              "      width: 32px;\n",
              "    }\n",
              "\n",
              "    .colab-df-convert:hover {\n",
              "      background-color: #E2EBFA;\n",
              "      box-shadow: 0px 1px 2px rgba(60, 64, 67, 0.3), 0px 1px 3px 1px rgba(60, 64, 67, 0.15);\n",
              "      fill: #174EA6;\n",
              "    }\n",
              "\n",
              "    [theme=dark] .colab-df-convert {\n",
              "      background-color: #3B4455;\n",
              "      fill: #D2E3FC;\n",
              "    }\n",
              "\n",
              "    [theme=dark] .colab-df-convert:hover {\n",
              "      background-color: #434B5C;\n",
              "      box-shadow: 0px 1px 3px 1px rgba(0, 0, 0, 0.15);\n",
              "      filter: drop-shadow(0px 1px 2px rgba(0, 0, 0, 0.3));\n",
              "      fill: #FFFFFF;\n",
              "    }\n",
              "  </style>\n",
              "\n",
              "      <script>\n",
              "        const buttonEl =\n",
              "          document.querySelector('#df-8d9cca84-77c0-4609-9a48-4ddbe5f9abd7 button.colab-df-convert');\n",
              "        buttonEl.style.display =\n",
              "          google.colab.kernel.accessAllowed ? 'block' : 'none';\n",
              "\n",
              "        async function convertToInteractive(key) {\n",
              "          const element = document.querySelector('#df-8d9cca84-77c0-4609-9a48-4ddbe5f9abd7');\n",
              "          const dataTable =\n",
              "            await google.colab.kernel.invokeFunction('convertToInteractive',\n",
              "                                                     [key], {});\n",
              "          if (!dataTable) return;\n",
              "\n",
              "          const docLinkHtml = 'Like what you see? Visit the ' +\n",
              "            '<a target=\"_blank\" href=https://colab.research.google.com/notebooks/data_table.ipynb>data table notebook</a>'\n",
              "            + ' to learn more about interactive tables.';\n",
              "          element.innerHTML = '';\n",
              "          dataTable['output_type'] = 'display_data';\n",
              "          await google.colab.output.renderOutput(dataTable, element);\n",
              "          const docLink = document.createElement('div');\n",
              "          docLink.innerHTML = docLinkHtml;\n",
              "          element.appendChild(docLink);\n",
              "        }\n",
              "      </script>\n",
              "    </div>\n",
              "  </div>\n",
              "  "
            ]
          },
          "metadata": {},
          "execution_count": 4
        }
      ]
    },
    {
      "cell_type": "markdown",
      "source": [
        "Training and testing the SVC model"
      ],
      "metadata": {
        "id": "oR-fDFjDhwqm"
      }
    },
    {
      "cell_type": "code",
      "source": [
        "import pandas as pd\n",
        "from sklearn.feature_extraction.text import CountVectorizer\n",
        "from sklearn.svm import SVC\n",
        "\n",
        "# Split the data into training and testing sets\n",
        "train_x = df['Sentence'][:80]\n",
        "train_y = df['Intent'][:80]\n",
        "test_x = df['Sentence'][80:]\n",
        "test_y = df['Intent'][80:]\n",
        "\n",
        "# Convert the text data into numerical features using a CountVectorizer\n",
        "vectorizer = CountVectorizer()\n",
        "train_x_vectors = vectorizer.fit_transform(train_x)\n",
        "test_x_vectors = vectorizer.transform(test_x)\n",
        "\n",
        "# Train a Support Vector Machine (SVM) on the training data\n",
        "clf_svm = SVC(kernel='linear', C=1, gamma='scale', probability=True)\n",
        "clf_svm.fit(train_x_vectors, train_y)\n",
        "\n",
        "# Test the accuracy of the model on the testing data\n",
        "accuracy = clf_svm.score(test_x_vectors, test_y)\n",
        "print('SVM accuracy:', accuracy)\n"
      ],
      "metadata": {
        "colab": {
          "base_uri": "https://localhost:8080/"
        },
        "id": "VDgZSdcEWDfx",
        "outputId": "93f0e35a-fa1c-4ca1-84db-877e1f78a3d9"
      },
      "execution_count": null,
      "outputs": [
        {
          "output_type": "stream",
          "name": "stdout",
          "text": [
            "SVM accuracy: 0.9827586206896551\n"
          ]
        }
      ]
    },
    {
      "cell_type": "markdown",
      "source": [
        "# Building the dialog system"
      ],
      "metadata": {
        "id": "nBaofviL_qkM"
      }
    },
    {
      "cell_type": "markdown",
      "source": [
        "Implementing a method that identifies the intent and returns the corresponding Frame"
      ],
      "metadata": {
        "id": "Is5wwp9oJ6CQ"
      }
    },
    {
      "cell_type": "code",
      "source": [
        "from numpy.random.mtrand import noncentral_f\n",
        "def find_frame(sentence): \n",
        "  new_sentence_vector = vectorizer.transform([sentence])\n",
        "  prediction_scores = clf_svm.predict_proba(new_sentence_vector)\n",
        "\n",
        "  # Check if all three intent scores are below the threshold of 0.5\n",
        "  if all(score < 0.5 for score in prediction_scores[0]): \n",
        "      return None\n",
        "  else:\n",
        "      if clf_svm.predict(new_sentence_vector)[0] == \"find_next_bus\":\n",
        "        return BusFrame()\n",
        "      \n",
        "      if clf_svm.predict(new_sentence_vector)[0] == \"weather_forecast\":\n",
        "        return WeatherFrame()\n",
        "      \n",
        "      if clf_svm.predict(new_sentence_vector)[0] == \"find_restaurant\":\n",
        "        return ResturantFrame()\n",
        "\n"
      ],
      "metadata": {
        "id": "6DWNgpzWh5N5"
      },
      "execution_count": null,
      "outputs": []
    },
    {
      "cell_type": "markdown",
      "source": [
        "Building the chat"
      ],
      "metadata": {
        "id": "b0wehJRAhGzP"
      }
    },
    {
      "cell_type": "code",
      "source": [
        "def start_chat(sentence): \n",
        "  # Continue asking to rephrase until a frame can be identified \n",
        "  while find_frame(sentence) == None: \n",
        "    sentence = input(\"Digital assistant: I am sorry, I don't understand your request. Please rephrase. \\nUser input \")\n",
        "\n",
        "\n",
        "  frame = find_frame(sentence)\n",
        "  # Confirm that the identified intent is correct\n",
        "  print(frame.confirm_intent(sentence))\n",
        "  answer = input(\"Digital assistant: Is this correct, Yes/No? \\nUser input: \")\n",
        "\n",
        "  if answer == \"Yes\": \n",
        "    # Search for tasks until all tasks are fulfilled \n",
        "    while frame.missing_tasks():\n",
        "      missing_tasks = frame.missing_tasks()\n",
        "      missing_tasks_string = \" and \".join(missing_tasks) \n",
        "      result_string = f\"Digital assistant: Good! Please specify informating about the following: {missing_tasks_string}. \\nUser input: \"  #Ask to specify information about the missing tasks\n",
        "      new_sentence = input(result_string)\n",
        "      frame.find_everything(new_sentence) # Continue searching for tasks \n",
        "    \n",
        "    print(frame.fetch_data())\n",
        "     \n",
        "  else: \n",
        "    new_sentence = input(\"Digital assistant: I am sorry that I missunderstood. Please rephrase your inital request. \\nUser input:\")\n",
        "    start_chat(sentence) #Restart process with new request"
      ],
      "metadata": {
        "id": "cY99SdPRH2qy"
      },
      "execution_count": null,
      "outputs": []
    },
    {
      "cell_type": "markdown",
      "source": [
        "Using the chat"
      ],
      "metadata": {
        "id": "Uhm_oHbcKNFT"
      }
    },
    {
      "cell_type": "code",
      "source": [
        "sentence = input(\"Digital assistant: What can I assist with? \\nUser input: \")\n",
        "start_chat(sentence)"
      ],
      "metadata": {
        "colab": {
          "base_uri": "https://localhost:8080/"
        },
        "id": "Nf0ljwUuIM43",
        "outputId": "02c1c1f8-759c-4915-88fc-9e9500568f45"
      },
      "execution_count": null,
      "outputs": [
        {
          "output_type": "stream",
          "name": "stdout",
          "text": [
            "Digital assistant: What can I assist with? \n",
            "User input: I want to book a restaurant\n",
            "Digital assistant: I understand you want help with finding a restaurant.\n",
            "Digital assistant: Is this correct, Yes/No? \n",
            "User input: Yes\n",
            "Digital assistant: Good! Please specify informating about the following: Day and Time and Cuisine and Location. \n",
            "User input: I woud like to eat Italian \n",
            "Digital assistant: Good! Please specify informating about the following: Day and Time and Location. \n",
            "User input: Monday at 7:30 pm \n",
            "Digital assistant: Good! Please specify informating about the following: Location. \n",
            "User input: In New York\n",
            "Digital assistant: You want to find a restaurant in New York on Monday at 7:30 pm with a Italian cuisine. \n",
            "Digital assistant: I have found the following restaurant for you: Resturant Bongo \n"
          ]
        }
      ]
    },
    {
      "cell_type": "code",
      "source": [],
      "metadata": {
        "id": "IDTi49ANz5PY"
      },
      "execution_count": null,
      "outputs": []
    }
  ]
}